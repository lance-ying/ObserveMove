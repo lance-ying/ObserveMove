{
 "cells": [
  {
   "cell_type": "code",
   "execution_count": 4,
   "id": "5812bdef",
   "metadata": {},
   "outputs": [],
   "source": [
    "import numpy as np"
   ]
  },
  {
   "cell_type": "code",
   "execution_count": 5,
   "id": "cdd2413d",
   "metadata": {},
   "outputs": [],
   "source": [
    "import json\n",
    "\n",
    "# Load the data from data.json file\n",
    "with open('data.json', 'r') as file:\n",
    "    game_data = json.load(file)\n",
    "\n",
    "# Display the loaded data\n",
    "# print(data) "
   ]
  },
  {
   "cell_type": "code",
   "execution_count": 7,
   "id": "b98c4f1c",
   "metadata": {},
   "outputs": [],
   "source": [
    "uid_dict ={}\n",
    "for mid, data in game_data.items():\n",
    "    new_observe = []\n",
    "    for uid, acts in data.items():\n",
    "        if uid not in uid_dict.keys():\n",
    "            uid_dict[uid] = []\n",
    "        uid_dict[uid].append(acts.count('observe'))\n",
    "\n",
    "\n",
    "    # new_mid = mid[:-1] + str(int(mid[-1])+1)\n",
    "\n",
    "    # uid_dict[uid]=new_observe"
   ]
  },
  {
   "cell_type": "code",
   "execution_count": 8,
   "id": "3497180f",
   "metadata": {},
   "outputs": [],
   "source": [
    "observe_cnt = [np.sum(uid_dict[uid]) for uid in uid_dict.keys()]"
   ]
  },
  {
   "cell_type": "code",
   "execution_count": 9,
   "id": "24885abd",
   "metadata": {},
   "outputs": [
    {
     "data": {
      "text/plain": [
       "23.25"
      ]
     },
     "execution_count": 9,
     "metadata": {},
     "output_type": "execute_result"
    }
   ],
   "source": [
    "Q1 = np.percentile(observe_cnt, 25)\n",
    "Q3 = np.percentile(observe_cnt, 75)\n",
    "\n",
    "# Calculate the interquartile range (IQR)\n",
    "IQR = Q3 - Q1\n",
    "\n",
    "IQR"
   ]
  },
  {
   "cell_type": "code",
   "execution_count": 10,
   "id": "cb363db8",
   "metadata": {},
   "outputs": [
    {
     "ename": "NameError",
     "evalue": "name 'prolific_dict' is not defined",
     "output_type": "error",
     "traceback": [
      "\u001b[0;31m---------------------------------------------------------------------------\u001b[0m",
      "\u001b[0;31mNameError\u001b[0m                                 Traceback (most recent call last)",
      "Cell \u001b[0;32mIn[10], line 1\u001b[0m\n\u001b[0;32m----> 1\u001b[0m exclude_list \u001b[38;5;241m=\u001b[39m [uid \u001b[38;5;28;01mfor\u001b[39;00m uid, pts \u001b[38;5;129;01min\u001b[39;00m prolific_dict\u001b[38;5;241m.\u001b[39mitems() \u001b[38;5;28;01mif\u001b[39;00m pts \u001b[38;5;241m<\u001b[39m \u001b[38;5;241m0\u001b[39m]\n",
      "\u001b[0;31mNameError\u001b[0m: name 'prolific_dict' is not defined"
     ]
    }
   ],
   "source": [
    "exclude_list = [uid for uid, pts in prolific_dict.items() if pts < 0] "
   ]
  },
  {
   "cell_type": "code",
   "execution_count": 11,
   "id": "02630ce5",
   "metadata": {},
   "outputs": [],
   "source": [
    "prolific_dict = {\n",
    "    '66d9d8108156d32cbe34ee6f': 119.0,\n",
    "    '667480a37068f7b381b534b6': 271.0,\n",
    "    '6647687c4e426658c608e92e': 269.0,\n",
    "    '66a529d528f1beaaf60ec987': 329.0,\n",
    "    '6643d8d439525a8045e92057': 323.0,\n",
    "    '66d1c453f3f1a47dcc6e2aef': 301.0,\n",
    "    '66ea6bd034571ff4a00f2171': 350.0,\n",
    "    '66d5d10f4defd1d7b2cdd5c5': 385.0,\n",
    "    '650b03136ab3d4c832d98b71': 295.0,\n",
    "    '66e60d5679cda3a829bbee24': 360.0,\n",
    "    '669abec15946546f5a97a5ff': 380.0,\n",
    "    '63d569384ae2cf6d4dce7c32': 316.0,\n",
    "    '665b7b047373d8da553237a6': 291.0,\n",
    "    '665a2495a0c87db18a2693b0': 240.0,\n",
    "    '6601c47dbc5b1b7c9f1b3fde': 200.0,\n",
    "    '65216acf7bfd070f6ac40717': 283.0,\n",
    "    '6692b83014b1e3282fce56cb': 160.0,\n",
    "    '66884713a634c5f082e912a3': -296.0,\n",
    "    '60fc2ec58ad0da367daee3c1': 68.0,\n",
    "    '62a74fec726aac54b9e43d75': 311.0,\n",
    "    '6533ed4d1f4d40995d982559': 380.0,\n",
    "    '5aeeb4903c80f200013af2ed': 285.0,\n",
    "    '662cf9017b3c4d1b5366c308': 293.0,\n",
    "    '5c50046b2b89f500015e5f6b': 330.0,\n",
    "    '668ec2be6720f02f794365de': 300.0,\n",
    "    '65c1158c42ae46b4f170955f': 284.0,\n",
    "    '63268ad93b6ecc1acf782a21': 218.0,\n",
    "    '670e8b28f1a48a783a00c341': 339.0,\n",
    "    '66fb12ba2bfd1e0379ced77c': 71.0,\n",
    "    '5588ee6ffdf99b304dd48297': 312.0,\n",
    "    '643ebfff661435ecda5a3580': -3.0,\n",
    "    '654673a478fa48783a0ad5bc': 302.5,\n",
    "    '66d2537675f4f1fc0aded926': 172.5,\n",
    "    '61528277afcb4906d01e0442': 282.5,\n",
    "    '67214507239dd44435ed5469': -123.5,\n",
    "    '6111c4865701e1ba367af3e3': 302.0,\n",
    "    '5f9fdfd04296cb0102563f84': 94.0,\n",
    "    '63474e67a5fd298c6103c409': 244.0,\n",
    "    '66966bd4e871b5ff4b321d8a': 209.0,\n",
    "    '663a93fe3e8d9c38e278fe5a': -592.5,\n",
    "    '6688196ff8ecace0eaba5839': 293.5,\n",
    "    '66eda98eacc3159f2ab459a0': 184.0,\n",
    "    '55bd8669fdf99b5bfc7d4cfc': 325.5,\n",
    "    '6560aa71bf5cc31f1c99ca34': 213.0,\n",
    "    '647dfaca60dc6f90350e765b': 93.5,\n",
    "    '6624a0a1b705816dc19c68cd': 29.0,\n",
    "    '67168dec9c8bbf36f6db6cdd': 230.0,\n",
    "    '6331b9456956d880a1e4632f': -325.0,\n",
    "    '5c4fb1a6172b6c000177799f': 220.0,\n",
    "    '6668d35f652e2b8e0616538b': 274.0,\n",
    "    '665fa530b8211326822c5a90': 164.0,\n",
    "    '6112af4b31c69595160deffb': 256.0,\n",
    "    '668d657ae92a34871791712b': 284.0,\n",
    "    '6697953e9a3629ebf4a4d3eb': 186.5,\n",
    "    '6631b0617c0f0c282cb9966d': 302.0,\n",
    "    '653f2424042d03012eb92ef5': 131.0,\n",
    "    '67140a77350fad04905f78f4': 246.0,\n",
    "    '66608717511d33975d38bd34': 266.5,\n",
    "    '67214a183205028a0e314764': 161.5,\n",
    "    '6721866d4fb3e4b721e1604c': 284.5,\n",
    "    '6595f2e6d6ee9f12ba9b7d99': 275.5,\n",
    "    '5bef87523d79ff0001275154': 269.0,\n",
    "    '66f42a85953065aa4cc9d751': 241.0,\n",
    "    '656239fc8b1bd5f742709eb0': 275.5,\n",
    "    '66f19dc4a74d598aae4d252e': 239.0,\n",
    "    '6152305042a5020fd676cae3': 328.0,\n",
    "    '661a91f75f980845e760cf62': 185.5,\n",
    "    '659568a9475adcc7a5145d64': 249.5,\n",
    "    '608f2aa883599160c8b87a79': 161.5,\n",
    "    '6109b95a3954ea5afdd7add9': 226.5,\n",
    "    '5de83f3b3aa615000a41f831': 216.0,\n",
    "    '5f6a5a31ef2e5a113a18c281': 231.5,\n",
    "    '66129825e6dad815d14d5b2b': 210.0,\n",
    "    '67191ec6be554a3d3d631d19': 238.0,\n",
    "    '671fecfe0a8c43a4c138031e': 222.5,\n",
    "    '66439b8b001862cd1bf32c8f': 100.0,\n",
    "    '66bf3c5305964203c56fb33d': 236.0,\n",
    "    '63d41c2627381fc53af61e58': -66.0,\n",
    "    '666ebbe42c2d03240811245a': 43.0,\n",
    "    '671447d274f9e4ff7e31e043': -43.0,\n",
    "    '66f757f0117e8e69f733283d': -316.5,\n",
    "    '6685bef260722b64f5c296ff': 132.0,\n",
    "    '647b94fa0a35e23330edcc2f': 69.0,\n",
    "    '5deaf0df6f9b7e221e81d2be': 99.0,\n",
    "    '663e92a3d1091f0c6beccc7f': 97.0,\n",
    "    '5ddb41e0ed3649a9c1fc68e6': 51.0,\n",
    "    '65a245b76f17beac9e7e32fe': 158.0,\n",
    "    '65dfb811a54bc9bfe49c42f5': 76.0,\n",
    "    '57315ab3070de6000e434671': 92.0,\n",
    "    '6627217e51fd5a535b22707f': 158.0,\n",
    "    '6726a7535e4d1f178f01d23d': 38.0,\n",
    "    '6660cf28e84fdd1b7cd8a450': 145.0,\n",
    "    '663bb0d5572a24c8014255e0': 78.0,\n",
    "    '6330e78ab411debcfa47e833': 80.0,\n",
    "    '5ea53496ce0dc9394362e871': 106.0,\n",
    "    '66464bb8f59205908be09c70': 99.0,\n",
    "    '63893361eb75b9bdcee7cc27': -31.0,\n",
    "    '661077bf583750ea59fab884': 138.0,\n",
    "    '5f872af9e3e4870ef4d67cc3': 168.0,\n",
    "    '67255be6b801c7d41101d564': 76.0,\n",
    "    '660c359b78f3257373d618de': 87.0,\n",
    "    '62cb164128bc19ebb5996a51': 44.0,\n",
    "    '65410ddaa5143808b8bf764d': 74.0,\n",
    "    '66edc42d538ac1d18fa2d1dd': 48.0,\n",
    "    '65add0950cc74fc6024f5b6a': 109.0,\n",
    "    '5d23460ad4c57900192b129c': 37.0,\n",
    "    '64123e577ccc2422448a155a': 16.0,\n",
    "    '6630ddcd4f10b79b19d77585': 60.0,\n",
    "    '5c128c5704bca100018f6bc7': 98.0,\n",
    "    '664993e12a5b629050529e17': 26.0,\n",
    "    '6630dcaced8c7613a1ae43fc': 58.0,\n",
    "    '6632db9e88521c49289d563c': 97.0,\n",
    "    '66be7d8ea87578f124f896a1': -17.0,\n",
    "    '61046e5433eee73d3277775d': 120.0,\n",
    "    '66311cdfdc6a541751ee782a': 87.0,\n",
    "    '6727931ccaf92e0d2351962b': 28.0,\n",
    "    '5f405adcda0ade19c87826bd': 67.0,\n",
    "    '62a0bb5765e6ebd99b2ebe61': 138.0,\n",
    "    '67278ad8cb30a919e2b2d8f5': 100.0,\n",
    "    '5cd01055c24ebe0001f9fd40': 40.0,\n",
    "    '671571553e1b53c2577555cf': 119.0,\n",
    "    '593e6e9ea2bf080001ed3bba': 62.0,\n",
    "    '66c4cd8fe64a9fe553dceb02': 91.0,\n",
    "    '5df3a2877bf57228142c3732': 95.0,\n",
    "    '65c16ee5d4f634d2c8a06d91': -22.0,\n",
    "    '65999a30a97e20e20316eb03': 73.0,\n",
    "    '66afc935bcb2252f63f1e2b2': 101.0,\n",
    "    '60d9faa609c8dcb9e5e05481': 88.0,\n",
    "    '66463ba8fac8591a6734db5b': 8.0,\n",
    "    '67243b2e5e0f37730b65574a': 55.0,\n",
    "    '655fbe9a6682f3df8008af3e': 108.0,\n",
    "    '5b970de9aa1729000192f57b': 26.0,\n",
    "    '66ba7dea255d9599c5c0da4e': 124.0,\n",
    "    '6514a8e7e21c6ff0317fe0b5': 59.0,\n",
    "    '665f2bff5d2a93a43162960f': 129.0,\n",
    "    '5766d657c8d7b400013782da': 157.0,\n",
    "    '6500778a612e846e3b7a5cac': 145.0,\n",
    "    '6715a49c51095661b9c576e3': 104.0,\n",
    "    '66788262a474d5c2159df46a': 99.0,\n",
    "    '5e76d2652d882b2481d65066': 131.0,\n",
    "    '62e0326dbbda328df3ceade2': 100.0,\n",
    "    '60fd95c7fcce247f6c4dc27b': 59.0,\n",
    "    '5e8cc937ee95da07853f938c': 112.0,\n",
    "    '66ba8327067bc0ffff3147ed': 18.0,\n",
    "    '60fcfbb33766c75dbbcd4adf': 140.0,\n",
    "    '662190146ef67bab626e48cb': -84.0,\n",
    "    '5f5310fa94f94761e07ed17b': 131.0,\n",
    "    '5ed0091bd374190b9b04045d': -291.0,\n",
    "    '67181762b1a53b1a378ffe14': 79.0,\n",
    "    '6560b73479ea077341c338a6': 69.0,\n",
    "    '662444ee097e69a6198e2b61': 168.0,\n",
    "    '6679d012158715ae2d03a3f7': 101.0,\n",
    "    '6608fe79836be5ccd7136892': 72.0,\n",
    "    '5fdf213eeae543727a6624e3': 128.0,\n",
    "    '5e65c5b41e30883349a25a61': 7.0,\n",
    "    '612dc06268ffca3496416bda': 120.0,\n",
    "    '60ff0b773aa4c205d429e0c1': 75.0,\n",
    "    '60ff71829e826cb65271c374': 147.0,\n",
    "    '6340c232c8974119146b504c': -84.0,\n",
    "    '670b03092a5c852292a7c554': 89.0,\n",
    "    '60ff17ba6e3322d4453de316': 57.0,\n",
    "    '6710d9b0233a0ff0851bafac': 297.0,\n",
    "    '6711ee336b91eb0fcf53841f': 264.0,\n",
    "    '66463a3b43cd8f961e3cc8c3': 158.0,\n",
    "    '6656525d91de4ff22fe48813': 273.0,\n",
    "    '63dd3dd2593c92be97d8dbde': 253.0,\n",
    "    '5f0d2ad60ad0d6730c380b05': 266.0,\n",
    "    '65e150a2cca2780f6d77dfa6': 207.0,\n",
    "    '663abe859bcc3ea8ef9bbdf3': 195.0,\n",
    "    '663ad3521b3d8f4931d80cd1': 274.0,\n",
    "    '588ab33542c8e900019d02ae': 277.0,\n",
    "    '55b9a9b0fdf99b6906d2aba4': 194.0,\n",
    "    '6400f8f41e203f131c68b79f': 107.0,\n",
    "    '594425f07ccfd00001d3f462': 188.0,\n",
    "    '672063b162fce3eaf6fce015': 229.0,\n",
    "    '6640f35c85a23b3f7db3c08f': 138.0,\n",
    "    '66d9547a9df3044a616f2cfd': 179.0,\n",
    "    '670fdd67d95e13ea091a43b0': 278.0,\n",
    "    '5af1c4dfaec2b600010a96c9': 155.0,\n",
    "    '653d3b418bce22526d2639b4': 222.0,\n",
    "    '671e55aeca0216c5762de35a': -121.0,\n",
    "    '559c3ae1fdf99b32b55f2d33': 237.0,\n",
    "    '66cbd449c6029aaeeafcb71f': 130.0,\n",
    "    '6643ad1d6324582f8867c01a': 172.0,\n",
    "    '6631d1814acfe3524a133869': 207.0,\n",
    "    '5dd42e7f35cf744223c60d1b': -225.0,\n",
    "    '5e850b0e390e520ec806b084': 281.0,\n",
    "    '63bf40687b33e43442effb9b': 21.0,\n",
    "    '672b9ccf040a27d3b2f57f32': 156.0,\n",
    "    '60d8c6bc9686529cdc824a49': 255.0,\n",
    "    '5ed543442db0060a955d12e1': 195.0,\n",
    "    '656e0dab178ffccdaa47202e': 309.0,\n",
    "    '6304b7a752adde130e57bddf': 170.0,\n",
    "    '601b28841ca7bb2f8edaa293': 65.0,\n",
    "    '6648becccd1bf5a6e253577b': 225.0,\n",
    "    '656083eb366411e4a862f58c': 111.0,\n",
    "    '5dc474fd45b8f933f16d6241': 217.0,\n",
    "    '664644138e5743a320b474c9': 72.0,\n",
    "    '66293cc1dcfaa310dd0f711b': 26.0,\n",
    "    '65603f388b128e01321fdee9': 155.0,\n",
    "}\n"
   ]
  },
  {
   "cell_type": "code",
   "execution_count": 12,
   "id": "f90f5cff",
   "metadata": {},
   "outputs": [],
   "source": [
    "exclude_list = [uid for uid, pts in prolific_dict.items() if pts < 0]"
   ]
  },
  {
   "cell_type": "code",
   "execution_count": 13,
   "id": "37386dbe",
   "metadata": {},
   "outputs": [],
   "source": [
    "uid_list = [uid for uid in uid_dict.keys() if uid not in exclude_list]"
   ]
  },
  {
   "cell_type": "code",
   "execution_count": 14,
   "id": "b5e0d9fc",
   "metadata": {},
   "outputs": [
    {
     "data": {
      "text/plain": [
       "212"
      ]
     },
     "execution_count": 14,
     "metadata": {},
     "output_type": "execute_result"
    }
   ],
   "source": [
    "len(uid_list)"
   ]
  },
  {
   "cell_type": "code",
   "execution_count": 15,
   "id": "dad85c13",
   "metadata": {},
   "outputs": [
    {
     "name": "stderr",
     "output_type": "stream",
     "text": [
      "/Users/lance/anaconda3/lib/python3.11/site-packages/numpy/core/fromnumeric.py:3464: RuntimeWarning: Mean of empty slice.\n",
      "  return _methods._mean(a, axis=axis, dtype=dtype,\n",
      "/Users/lance/anaconda3/lib/python3.11/site-packages/numpy/core/_methods.py:192: RuntimeWarning: invalid value encountered in scalar divide\n",
      "  ret = ret.dtype.type(ret / rcount)\n"
     ]
    },
    {
     "name": "stdout",
     "output_type": "stream",
     "text": [
      "0.7578111066727833\n",
      "0.059209945326557906\n"
     ]
    }
   ],
   "source": [
    "import random\n",
    "corr_list = []\n",
    "\n",
    "for i in range(100):\n",
    "# Randomly shuffle the uid_list\n",
    "    random.shuffle(uid_list)\n",
    "\n",
    "    # Split the list in half\n",
    "    half = len(uid_list) // 2\n",
    "    uid_list_1 = uid_list[:half]\n",
    "    uid_list_2 = uid_list[half:]\n",
    "\n",
    "    observe_dict_1 ={}\n",
    "    for mid, data in game_data.items():\n",
    "        if \"naive\"  in mid:\n",
    "            continue\n",
    "        new_observe = []\n",
    "        for uid, acts in data.items():\n",
    "            if uid in uid_list_1:\n",
    "                new_observe.append(min(15,acts.count('observe')))\n",
    "        new_mid = mid\n",
    "\n",
    "        observe_dict_1[new_mid]=new_observe\n",
    "\n",
    "    human_steps_1 = {k: np.mean(v) for k,v in observe_dict_1.items()}\n",
    "\n",
    "    observe_dict_2 ={}\n",
    "    for mid, data in game_data.items():\n",
    "\n",
    "        if \"naive\"  in mid:\n",
    "            continue\n",
    "\n",
    "        new_observe = []\n",
    "        for uid, acts in data.items():\n",
    "            if uid in uid_list_2:\n",
    "                new_observe.append(min(10,acts.count('observe')))\n",
    "        new_mid = mid\n",
    "\n",
    "        observe_dict_2[new_mid]=new_observe\n",
    "\n",
    "    human_steps_2 = {k: np.mean(v) for k,v in observe_dict_2.items()}\n",
    "\n",
    "    arr1 = []\n",
    "    arr2 = []\n",
    "\n",
    "    # print(arr1)\n",
    "    # print(arr2)\n",
    "\n",
    "    for k in human_steps_2.keys():\n",
    "        if k in human_steps_1.keys():\n",
    "\n",
    "            arr1.append(human_steps_1[k])\n",
    "            arr2.append(human_steps_2[k])\n",
    "\n",
    "    if any(np.isnan(arr1)) or any(np.isnan(arr2)):\n",
    "        continue\n",
    "\n",
    "    # print(arr1)\n",
    "    # print(arr2)\n",
    "\n",
    "# Calculate the Pearson correlation coefficient\n",
    "\n",
    "    # print([\"%.2f\" % elem for elem in arr1])\n",
    "    # print([\"%.2f\" % elem for elem in arr2])\n",
    "    # print(len(arr1))\n",
    "    \n",
    "    corr, _ = pearsonr(arr1, arr2)\n",
    "    corr_list.append(corr)\n",
    "\n",
    "print(np.mean(corr_list))\n",
    "print(np.std(corr_list))\n",
    "\n",
    "    \n",
    "\n"
   ]
  },
  {
   "cell_type": "code",
   "execution_count": 16,
   "id": "733eb728",
   "metadata": {},
   "outputs": [
    {
     "ename": "NameError",
     "evalue": "name 'observe_dict' is not defined",
     "output_type": "error",
     "traceback": [
      "\u001b[0;31m---------------------------------------------------------------------------\u001b[0m",
      "\u001b[0;31mNameError\u001b[0m                                 Traceback (most recent call last)",
      "Cell \u001b[0;32mIn[16], line 7\u001b[0m\n\u001b[1;32m      4\u001b[0m arr1 \u001b[38;5;241m=\u001b[39m []\n\u001b[1;32m      5\u001b[0m arr2 \u001b[38;5;241m=\u001b[39m []\n\u001b[0;32m----> 7\u001b[0m \u001b[38;5;28;01mfor\u001b[39;00m k, v \u001b[38;5;129;01min\u001b[39;00m observe_dict\u001b[38;5;241m.\u001b[39mitems():\n\u001b[1;32m      9\u001b[0m     \u001b[38;5;28;01mif\u001b[39;00m \u001b[38;5;124m\"\u001b[39m\u001b[38;5;124mnaive\u001b[39m\u001b[38;5;124m\"\u001b[39m \u001b[38;5;129;01min\u001b[39;00m k:\n\u001b[1;32m     10\u001b[0m         \u001b[38;5;28;01mcontinue\u001b[39;00m\n",
      "\u001b[0;31mNameError\u001b[0m: name 'observe_dict' is not defined"
     ]
    }
   ],
   "source": [
    "corr_list=[]\n",
    "for i in range(100):\n",
    "\n",
    "    arr1 = []\n",
    "    arr2 = []\n",
    "\n",
    "    for k, v in observe_dict.items():\n",
    "\n",
    "        if \"naive\" in k:\n",
    "            continue\n",
    "        half = len(v) // 2\n",
    "\n",
    "        arr = np.array(v)\n",
    "        arr = [min(a,13) for a in arr]\n",
    "        random.shuffle(arr)\n",
    "        arr1.append(np.median(arr[:half]))\n",
    "        arr2.append(np.median(arr[half:]))\n",
    "\n",
    "    # Calculate the Pearson correlation coefficient\n",
    "    corr, _ = pearsonr(arr1, arr2)\n",
    "    corr_list.append(corr)\n",
    "\n",
    "    # print(corr)\n",
    "\n",
    "print(np.mean(corr_list))"
   ]
  },
  {
   "cell_type": "code",
   "execution_count": 81,
   "id": "ce61ede5",
   "metadata": {},
   "outputs": [],
   "source": [
    "observe_dict ={}\n",
    "for mid, data in game_data.items():\n",
    "    new_observe = []\n",
    "    for uid, acts in data.items():\n",
    "        if uid in uid_list:\n",
    "            new_observe.append(acts.count('observe'))\n",
    "            # new_observe.append(min(acts.count('observe'),10))\n",
    "    new_mid = mid\n",
    "\n",
    "    observe_dict[new_mid]=new_observe\n"
   ]
  },
  {
   "cell_type": "code",
   "execution_count": 22,
   "id": "ff4851ab",
   "metadata": {},
   "outputs": [
    {
     "data": {
      "text/plain": [
       "1351"
      ]
     },
     "execution_count": 22,
     "metadata": {},
     "output_type": "execute_result"
    }
   ],
   "source": [
    "np.sum([len(v) for k,v in observe_dict.items()])"
   ]
  },
  {
   "cell_type": "code",
   "execution_count": 82,
   "id": "27c1a64e",
   "metadata": {},
   "outputs": [],
   "source": [
    "human_steps = {k: np.mean(v) for k,v in observe_dict.items()}"
   ]
  },
  {
   "cell_type": "code",
   "execution_count": 85,
   "id": "8b39b5af",
   "metadata": {},
   "outputs": [
    {
     "data": {
      "text/plain": [
       "{'s442_blue_exp': 4.369654168354792,\n",
       " 's542_blue_exp': 2.619584360585133,\n",
       " 's342_blue_exp': 2.042090185359544,\n",
       " 's352_other_exp': 3.745016412379802,\n",
       " 's431_other_exp': 4.129030017920539,\n",
       " 's411_blue_exp': 2.898275349237888,\n",
       " 's362_other_exp': 1.6259147013041473,\n",
       " 's211_blue_exp': 3.079189009898173,\n",
       " 's361_blue_exp': 2.3338114534548433,\n",
       " 's432_other_exp': 1.8689717910004837,\n",
       " 's351_blue_exp': 3.9213760445339374,\n",
       " 's431_blue_exp': 4.280498143891852,\n",
       " 's351_other_exp': 3.2657205262477,\n",
       " 's211_other_exp': 2.249716535431946,\n",
       " 's511_other_exp': 1.7069212773041351,\n",
       " 's352_blue_exp': 5.777428909753563,\n",
       " 's342_other_exp': 3.050877126281788,\n",
       " 's441_blue_exp': 3.2137828178020995,\n",
       " 's362_blue_exp': 2.7159792359067367,\n",
       " 's542_other_exp': 3.1347071456340045,\n",
       " 's311_blue_exp': 1.943808980275725,\n",
       " 's441_other_exp': 2.824239961643973,\n",
       " 's311_other_exp': 1.192261549873091,\n",
       " 's361_other_exp': 0.40768245749551757,\n",
       " 's411_other_exp': 4.228066131208989,\n",
       " 's511_blue_exp': 4.055175020198813,\n",
       " 's421_other_exp': 2.7253440149823294,\n",
       " 's442_other_exp': 1.2661060677009597,\n",
       " 's432_blue_exp': 4.543126676640219,\n",
       " 's321_blue_exp': 1.5019931260416532,\n",
       " 's321_other_exp': 1.9688939051854832,\n",
       " 's521_blue_exp': 3.823091023502506,\n",
       " 's521_other_exp': 2.675518641310503,\n",
       " 's542_blue_naive': 5.709423476617781,\n",
       " 's342_blue_naive': 4.372261047406327,\n",
       " 's221_blue_exp': 5.677785911920464,\n",
       " 's221_other_exp': 2.622503909218144,\n",
       " 's421_blue_exp': 5.238724501683292,\n",
       " 's341_blue_exp': 3.9871794542006755,\n",
       " 's332_blue_naive': 4.230593410493963,\n",
       " 's541_other_exp': 5.096403960964372,\n",
       " 's341_other_exp': 2.207940216581962,\n",
       " 's541_blue_exp': 3.847798793538398,\n",
       " 's331_blue_naive': 3.3300910156990464,\n",
       " 's332_other_exp': 3.861310946067699,\n",
       " 's332_blue_exp': 1.2779741754353195,\n",
       " 's341_blue_naive': 4.757141999141922,\n",
       " 's331_blue_exp': 2.850786580399194,\n",
       " 's541_blue_naive': 4.6289847699036555,\n",
       " 's531_other_exp': 1.1605769149479943,\n",
       " 's531_blue_exp': 4.7092776429477325,\n",
       " 's532_blue_exp': 4.102844541697057,\n",
       " 's331_other_exp': 3.967751952372471,\n",
       " 's532_other_exp': 2.9933259094191533,\n",
       " 's543_other_exp': 1.4947825928876748,\n",
       " 's544_blue_exp': 3.5848585847511973,\n",
       " 's371_blue_exp': 6.227408148250599,\n",
       " 's543_blue_exp': 4.11214326382511,\n",
       " 's544_other_exp': 0.2874797872880344,\n",
       " 's371_other_exp': 0.7457969011409737}"
      ]
     },
     "execution_count": 85,
     "metadata": {},
     "output_type": "execute_result"
    }
   ],
   "source": [
    "{k: np.std(v) for k,v in observe_dict.items()}"
   ]
  },
  {
   "cell_type": "code",
   "execution_count": 31,
   "id": "f80ed9c0",
   "metadata": {},
   "outputs": [],
   "source": [
    "import json\n",
    "with open('/Users/lance/Documents/GitHub/ObserveMove/step_dict_full.json', 'r') as file:\n",
    "    step_dict_full = json.load(file)\n",
    "\n",
    "with open('/Users/lance/Documents/GitHub/ObserveMove/step_dict_nonmentalize.json', 'r') as file:\n",
    "    step_dict_nonmentalize = json.load(file)\n",
    "\n",
    "with open('/Users/lance/Documents/GitHub/ObserveMove/step_dict_mentalize.json', 'r') as file:\n",
    "    step_dict_mentalize = json.load(file)\n",
    "\n",
    "with open('/Users/lance/Documents/GitHub/ObserveMove/step_dict_naive.json', 'r') as file:\n",
    "    step_dict_naive = json.load(file)\n",
    "\n",
    "with open('/Users/lance/Documents/GitHub/ObserveMove/results/human_steps.json', 'r') as file:\n",
    "    human_steps = json.load(file)\n",
    "\n",
    "# step_dict = step_dict_full\n",
    "# step_dict = step_dict_nonmentalize\n",
    "\n",
    "# step_dict = step_dict_mentalize\n",
    "# step_dict = step_dict_naive\n",
    "\n",
    "# Display the loaded data\n",
    "# step_dict"
   ]
  },
  {
   "cell_type": "code",
   "execution_count": 9,
   "id": "b6d42ed5",
   "metadata": {},
   "outputs": [],
   "source": [
    "step_dict_mentalize[\"s543_other_exp\"] = 2\n",
    "step_dict_mentalize[\"s531_other_exp\"] = 1"
   ]
  },
  {
   "cell_type": "code",
   "execution_count": null,
   "id": "38075ab9",
   "metadata": {},
   "outputs": [],
   "source": [
    "import json\n",
    "\n",
    "# Define the file path\n",
    "file_path = 'human_steps.json'\n",
    "\n",
    "# Save the human_steps dictionary to a JSON file\n",
    "with open(file_path, 'w') as file:\n",
    "    json.dump(human_steps, file)\n",
    "\n",
    "file_path = 'human_steps_std.json'\n",
    "\n",
    "# Save the human_steps dictionary to a JSON file\n",
    "with open(file_path, 'w') as file:\n",
    "    json.dump({k: np.std(v)/np.sqrt(len(v)) for k,v in observe_dict.items()}, file)"
   ]
  },
  {
   "cell_type": "code",
   "execution_count": 29,
   "id": "ae08a075",
   "metadata": {},
   "outputs": [],
   "source": [
    "for k in human_steps.keys():\n",
    "    if \"naive\" in k:\n",
    "        continue\n",
    "    if abs(step_dict_full[k] - step_dict_mentalize[k]) ==1:\n",
    "        step_dict_mentalize[k] = step_dict_full[k]"
   ]
  },
  {
   "cell_type": "code",
   "execution_count": 32,
   "id": "6e1bd3f5",
   "metadata": {},
   "outputs": [
    {
     "name": "stdout",
     "output_type": "stream",
     "text": [
      "s442_blue_exp Human: 7.857142857142857 Full: 7 Mentalize: 8 Nonmentalize: 11 Naive: 11\n",
      "s542_blue_exp Human: 3.933333333333333 Full: 3 Mentalize: 3 Nonmentalize: 4 Naive: 4\n",
      "s342_blue_exp Human: 2.217391304347826 Full: 3 Mentalize: 4 Nonmentalize: 4 Naive: 4\n",
      "s352_other_exp Human: 3.8846153846153846 Full: 3 Mentalize: 3 Nonmentalize: 8 Naive: 8\n",
      "s431_other_exp Human: 4.866666666666666 Full: 5 Mentalize: 6 Nonmentalize: 15 Naive: 15\n",
      "s411_blue_exp Human: 7.0 Full: 7 Mentalize: 8 Nonmentalize: 13 Naive: 13\n",
      "s362_other_exp Human: 0.9411764705882353 Full: 0 Mentalize: 4 Nonmentalize: 15 Naive: 15\n",
      "s211_blue_exp Human: 2.8636363636363638 Full: 3 Mentalize: 4 Nonmentalize: 13 Naive: 13\n",
      "s361_blue_exp Human: 1.0263157894736843 Full: 0 Mentalize: 4 Nonmentalize: 11 Naive: 11\n",
      "s432_other_exp Human: 2.0833333333333335 Full: 1 Mentalize: 1 Nonmentalize: 15 Naive: 15\n",
      "s351_blue_exp Human: 3.4909090909090907 Full: 1 Mentalize: 2 Nonmentalize: 5 Naive: 5\n",
      "s431_blue_exp Human: 5.029411764705882 Full: 3 Mentalize: 4 Nonmentalize: 10 Naive: 10\n",
      "s351_other_exp Human: 3.2083333333333335 Full: 3 Mentalize: 4 Nonmentalize: 8 Naive: 8\n",
      "s211_other_exp Human: 2.7142857142857144 Full: 1 Mentalize: 1 Nonmentalize: 15 Naive: 15\n",
      "s511_other_exp Human: 2.5555555555555554 Full: 1 Mentalize: 1 Nonmentalize: 15 Naive: 15\n",
      "s352_blue_exp Human: 6.0476190476190474 Full: 5 Mentalize: 6 Nonmentalize: 9 Naive: 9\n",
      "s342_other_exp Human: 2.3181818181818183 Full: 1 Mentalize: 1 Nonmentalize: 15 Naive: 15\n",
      "s441_blue_exp Human: 4.54 Full: 6 Mentalize: 7 Nonmentalize: 7 Naive: 7\n",
      "s362_blue_exp Human: 0.8888888888888888 Full: 0 Mentalize: 6 Nonmentalize: 13 Naive: 13\n",
      "s542_other_exp Human: 3.0833333333333335 Full: 1 Mentalize: 1 Nonmentalize: 10 Naive: 10\n",
      "s311_blue_exp Human: 3.8947368421052633 Full: 4 Mentalize: 5 Nonmentalize: 13 Naive: 13\n",
      "s441_other_exp Human: 3.1538461538461537 Full: 5 Mentalize: 6 Nonmentalize: 8 Naive: 8\n",
      "s311_other_exp Human: 1.1818181818181819 Full: 1 Mentalize: 1 Nonmentalize: 15 Naive: 15\n",
      "s361_other_exp Human: 0.21052631578947367 Full: 0 Mentalize: 4 Nonmentalize: 7 Naive: 7\n",
      "s411_other_exp Human: 5.111111111111111 Full: 1 Mentalize: 1 Nonmentalize: 15 Naive: 15\n",
      "s511_blue_exp Human: 9.666666666666666 Full: 11 Mentalize: 12 Nonmentalize: 13 Naive: 13\n",
      "s421_other_exp Human: 2.85 Full: 2 Mentalize: 1 Nonmentalize: 9 Naive: 9\n",
      "s442_other_exp Human: 1.6956521739130435 Full: 1 Mentalize: 1 Nonmentalize: 4 Naive: 4\n",
      "s432_blue_exp Human: 6.6 Full: 9 Mentalize: 10 Nonmentalize: 15 Naive: 15\n",
      "s321_blue_exp Human: 2.7419354838709675 Full: 3 Mentalize: 4 Nonmentalize: 13 Naive: 13\n",
      "s321_other_exp Human: 2.7777777777777777 Full: 1 Mentalize: 1 Nonmentalize: 9 Naive: 9\n",
      "s521_blue_exp Human: 7.354838709677419 Full: 7 Mentalize: 8 Nonmentalize: 13 Naive: 13\n",
      "s521_other_exp Human: 3.04 Full: 2 Mentalize: 1 Nonmentalize: 9 Naive: 9\n",
      "s221_blue_exp Human: 4.387096774193548 Full: 1 Mentalize: 2 Nonmentalize: 13 Naive: 13\n",
      "s221_other_exp Human: 2.1379310344827585 Full: 1 Mentalize: 1 Nonmentalize: 9 Naive: 9\n",
      "s421_blue_exp Human: 8.347826086956522 Full: 5 Mentalize: 6 Nonmentalize: 13 Naive: 13\n",
      "s341_blue_exp Human: 5.68 Full: 7 Mentalize: 8 Nonmentalize: 8 Naive: 8\n",
      "s541_other_exp Human: 3.4 Full: 1 Mentalize: 1 Nonmentalize: 15 Naive: 15\n",
      "s341_other_exp Human: 2.5 Full: 2 Mentalize: 2 Nonmentalize: 14 Naive: 14\n",
      "s541_blue_exp Human: 5.166666666666667 Full: 5 Mentalize: 6 Nonmentalize: 7 Naive: 7\n",
      "s332_other_exp Human: 2.4166666666666665 Full: 1 Mentalize: 1 Nonmentalize: 15 Naive: 15\n",
      "s332_blue_exp Human: 4.117647058823529 Full: 4 Mentalize: 5 Nonmentalize: 6 Naive: 6\n",
      "s331_blue_exp Human: 1.6666666666666667 Full: 1 Mentalize: 2 Nonmentalize: 3 Naive: 3\n",
      "s531_other_exp Human: 1.2857142857142858 Full: 2 Mentalize: 1 Nonmentalize: 6 Naive: 6\n",
      "s531_blue_exp Human: 5.035714285714286 Full: 8 Mentalize: 9 Nonmentalize: 10 Naive: 10\n",
      "s532_blue_exp Human: 5.0 Full: 4 Mentalize: 5 Nonmentalize: 6 Naive: 6\n",
      "s331_other_exp Human: 3.0833333333333335 Full: 1 Mentalize: 2 Nonmentalize: 3 Naive: 3\n",
      "s532_other_exp Human: 4.8 Full: 4 Mentalize: 5 Nonmentalize: 6 Naive: 6\n",
      "s543_other_exp Human: 0.625 Full: 0 Mentalize: 10 Nonmentalize: 0 Naive: 15\n",
      "s544_blue_exp Human: 1.8235294117647058 Full: 0 Mentalize: 14 Nonmentalize: 0 Naive: 15\n",
      "s371_blue_exp Human: 5.071428571428571 Full: 0 Mentalize: 15 Nonmentalize: 0 Naive: 15\n",
      "s543_blue_exp Human: 1.4166666666666667 Full: 0 Mentalize: 15 Nonmentalize: 0 Naive: 15\n",
      "s544_other_exp Human: 0.09090909090909091 Full: 0 Mentalize: 10 Nonmentalize: 0 Naive: 15\n",
      "s371_other_exp Human: 0.5384615384615384 Full: 0 Mentalize: 6 Nonmentalize: 0 Naive: 9\n",
      "0.833699873876502\n",
      "0.2943796540134584\n",
      "0.2033635190435828\n",
      "-0.15603084705584197\n"
     ]
    }
   ],
   "source": [
    "import pandas as pd\n",
    "from scipy.stats import pearsonr\n",
    "import numpy as np\n",
    "\n",
    "model_full_arr = []\n",
    "model_mentalize = []\n",
    "model_nonmentalize = []\n",
    "model_naive = []\n",
    "human_arr = []\n",
    "human_err = []\n",
    "# df = pd.DataFrame(columns=[\"stimuli\",\"Model\", \"Human\"])\n",
    "\n",
    "\n",
    "for k in human_steps.keys():\n",
    "    if \"naive\" in k:\n",
    "        continue\n",
    "    human_arr.append( human_steps[k])\n",
    "    model_full_arr.append( step_dict_full[k])\n",
    "    model_mentalize.append( step_dict_mentalize[k])\n",
    "    model_nonmentalize.append( step_dict_nonmentalize[k])\n",
    "    model_naive.append( step_dict_naive[k])\n",
    "    # human_err.append(np.std(observe_dict[k])/np.sqrt(len(observe_dict[k])))\n",
    "\n",
    "    print(k, \"Human:\", human_steps[k], \"Full:\", min(15, step_dict_full[k]), \"Mentalize:\", min(15, step_dict_mentalize[k]), \"Nonmentalize:\", min(15, step_dict_nonmentalize[k]), \"Naive:\", min(15, step_dict_naive[k]))\n",
    "    \n",
    "\n",
    "# Calculate the Pearson correlation coefficient\n",
    "\n",
    "corr_full, _ = pearsonr(model_full_arr, human_arr)\n",
    "corr_mentalize, _ = pearsonr(model_mentalize, human_arr)\n",
    "corr_nonmentalize, _ = pearsonr(model_nonmentalize, human_arr)\n",
    "corr_naive, _ = pearsonr(model_naive, human_arr)\n",
    "\n",
    "print(corr_full)\n",
    "print(corr_mentalize)\n",
    "print(corr_nonmentalize)\n",
    "print(corr_naive)"
   ]
  },
  {
   "cell_type": "code",
   "execution_count": 78,
   "id": "83ae0e7e",
   "metadata": {},
   "outputs": [
    {
     "data": {
      "text/plain": [
       "3.8846153846153846"
      ]
     },
     "execution_count": 78,
     "metadata": {},
     "output_type": "execute_result"
    }
   ],
   "source": [
    "human_steps[\"s352_other_exp\"]"
   ]
  },
  {
   "cell_type": "code",
   "execution_count": 54,
   "id": "a792c901",
   "metadata": {},
   "outputs": [
    {
     "name": "stdout",
     "output_type": "stream",
     "text": [
      "model_full 2.740740740740741\n",
      "model_mentalize 4.037037037037037\n",
      "model_nonmentalize 9.12962962962963\n",
      "model_naive 10.074074074074074\n",
      "human 3.507783288981023\n",
      "model_full 0.35926420881010596\n",
      "model_mentalize 0.5480749218875391\n",
      "model_nonmentalize 0.6615266337583627\n",
      "model_naive 0.5511254552169601\n",
      "human 0.29036622173360815\n"
     ]
    }
   ],
   "source": [
    "print(\"model_full\", np.mean(model_full_arr))\n",
    "print(\"model_mentalize\", np.mean(model_mentalize))\n",
    "print(\"model_nonmentalize\", np.mean(model_nonmentalize))\n",
    "print(\"model_naive\", np.mean(model_naive))\n",
    "print(\"human\", np.mean(human_arr))\n",
    "\n",
    "print(\"model_full\", np.std(model_full_arr)/np.sqrt(len(model_full_arr)))\n",
    "print(\"model_mentalize\", np.std(model_mentalize)/np.sqrt(len(model_mentalize)))\n",
    "print(\"model_nonmentalize\", np.std(model_nonmentalize)/np.sqrt(len(model_nonmentalize)))\n",
    "print(\"model_naive\", np.std(model_naive)/np.sqrt(len(model_naive)))\n",
    "print(\"human\", np.std(human_arr)/np.sqrt(len(human_arr)))\n"
   ]
  },
  {
   "cell_type": "code",
   "execution_count": null,
   "id": "1fb015e4",
   "metadata": {},
   "outputs": [
    {
     "name": "stderr",
     "output_type": "stream",
     "text": [
      "/var/folders/1r/pxyhnmhd2894rgv6z8dxlpzw0000gp/T/ipykernel_112/4029343171.py:5: FutureWarning: The default value of numeric_only in DataFrameGroupBy.mean is deprecated. In a future version, numeric_only will default to False. Either specify numeric_only or select only columns which should be valid for the function.\n",
      "  detailed_summary_df.groupby(\"Stimuli\").mean()[\"Total Steps (inc. observe)\"].values.mean()\n"
     ]
    },
    {
     "data": {
      "text/plain": [
       "40.60775922937327"
      ]
     },
     "execution_count": 72,
     "metadata": {},
     "output_type": "execute_result"
    }
   ],
   "source": [
    "# Read the CSV file into a DataFrame\n",
    "detailed_summary_df = pd.read_csv('/Users/lance/Documents/GitHub/ObserveMove/results/detailed_summary.csv')\n",
    "detailed_summary_df = detailed_summary_df[~detailed_summary_df[\"Stimuli\"].str.contains(\"naive\")]\n",
    "# Display the first few rows of the DataFrame\n",
    "detailed_summary_df.groupby(\"Stimuli\").median()[\"Total Steps (inc. observe)\"].values.mean()"
   ]
  },
  {
   "cell_type": "code",
   "execution_count": 70,
   "id": "2dd94779",
   "metadata": {},
   "outputs": [
    {
     "name": "stderr",
     "output_type": "stream",
     "text": [
      "/var/folders/1r/pxyhnmhd2894rgv6z8dxlpzw0000gp/T/ipykernel_112/907033960.py:1: FutureWarning: The default value of numeric_only in DataFrameGroupBy.median is deprecated. In a future version, numeric_only will default to False. Either specify numeric_only or select only columns which should be valid for the function.\n",
      "  detailed_summary_df.groupby(\"Stimuli\").median()[\"Total Steps (inc. observe)\"].values.std()/np.sqrt(54)\n"
     ]
    },
    {
     "data": {
      "text/plain": [
       "2.003553212110694"
      ]
     },
     "execution_count": 70,
     "metadata": {},
     "output_type": "execute_result"
    }
   ],
   "source": [
    "detailed_summary_df.groupby(\"Stimuli\").median()[\"Total Steps (inc. observe)\"].values.std()/np.sqrt(54)"
   ]
  },
  {
   "cell_type": "code",
   "execution_count": 71,
   "id": "c97a159b",
   "metadata": {},
   "outputs": [
    {
     "name": "stdout",
     "output_type": "stream",
     "text": [
      "77.42592592592592\n",
      "4.058332539175005\n"
     ]
    },
    {
     "name": "stderr",
     "output_type": "stream",
     "text": [
      "/var/folders/1r/pxyhnmhd2894rgv6z8dxlpzw0000gp/T/ipykernel_112/3966207292.py:1: FutureWarning: The default value of numeric_only in DataFrameGroupBy.median is deprecated. In a future version, numeric_only will default to False. Either specify numeric_only or select only columns which should be valid for the function.\n",
      "  print(detailed_summary_df.groupby(\"Stimuli\").median()[\"Points Used\"].values.mean())\n",
      "/var/folders/1r/pxyhnmhd2894rgv6z8dxlpzw0000gp/T/ipykernel_112/3966207292.py:2: FutureWarning: The default value of numeric_only in DataFrameGroupBy.median is deprecated. In a future version, numeric_only will default to False. Either specify numeric_only or select only columns which should be valid for the function.\n",
      "  print(detailed_summary_df.groupby(\"Stimuli\").median()[\"Points Used\"].values.std()/np.sqrt(54))\n"
     ]
    }
   ],
   "source": [
    "print(detailed_summary_df.groupby(\"Stimuli\").median()[\"Points Used\"].values.mean())\n",
    "print(detailed_summary_df.groupby(\"Stimuli\").median()[\"Points Used\"].values.std()/np.sqrt(54))"
   ]
  },
  {
   "cell_type": "code",
   "execution_count": 67,
   "id": "42393493",
   "metadata": {},
   "outputs": [
    {
     "data": {
      "text/plain": [
       "54"
      ]
     },
     "execution_count": 67,
     "metadata": {},
     "output_type": "execute_result"
    }
   ],
   "source": [
    "len(detailed_summary_df[\"Stimuli\"].unique())"
   ]
  },
  {
   "cell_type": "code",
   "execution_count": null,
   "id": "566557aa",
   "metadata": {},
   "outputs": [],
   "source": [
    "detailed_summary_df.groupby(\"Stimuli\").median()[\"Total Steps (inc. observe)\"].values.mean()"
   ]
  },
  {
   "cell_type": "code",
   "execution_count": 26,
   "id": "27cb610a",
   "metadata": {},
   "outputs": [
    {
     "data": {
      "image/png": "[encoded data removed]",
      "text/plain": [
       "<Figure size 2000x500 with 4 Axes>"
      ]
     },
     "metadata": {},
     "output_type": "display_data"
    }
   ],
   "source": [
    "import matplotlib.pyplot as plt\n",
    "\n",
    "# Create the scatter plot\n",
    "\n",
    "fig, axs = plt.subplots(1, 4, figsize=(20, 5))\n",
    "\n",
    "# Add best fitting line to all subplots\n",
    "\n",
    "# Scatter plot for model_full_arr vs human_arr\n",
    "axs[0].scatter(model_full_arr, human_arr, color='skyblue', alpha=0.8)\n",
    "# axs[0].errorbar(model_full_arr, human_arr, yerr=human_err, fmt='o', color='skyblue', alpha=0.8, ecolor='gray', capsize=0)\n",
    "axs[0].set_xlabel('Rational Mentalizing\\n(Full Model)', fontsize=18)\n",
    "axs[0].set_ylabel('Human', fontsize=18)\n",
    "# axs[0].set_title('Rational Mentalizer vs Human')\n",
    "axs[0].set_xlim([-1, 11])\n",
    "\n",
    "# Scatter plot for model_mentalize vs human_arr\n",
    "axs[1].scatter(model_mentalize, human_arr, color='skyblue', alpha=0.8)\n",
    "axs[1].set_xlabel('Social Mentalizing', fontsize=18)\n",
    "# axs[1].set_ylabel('Human')\n",
    "# axs[1].set_title('Heuristic Mentalizer vs Human')\n",
    "\n",
    "# Scatter plot for model_nonmentalize vs human_arr\n",
    "axs[2].scatter(model_nonmentalize, human_arr, color='skyblue', alpha=0.8)\n",
    "axs[2].set_xlabel('Rational Non-Mentalizing', fontsize=18)\n",
    "# axs[2].set_ylabel('Human')\n",
    "# axs[2].set_title('Rational Non-Mentalizer vs Human')\n",
    "\n",
    "# Scatter plot for model_naive vs human_arr\n",
    "axs[3].scatter(model_naive, human_arr, color='skyblue', alpha=0.8)\n",
    "axs[3].set_xlabel('Naive Observer', fontsize=18)\n",
    "# axs[3].set_ylabel('Human')\n",
    "# axs[3].set_title('Naive Observer vs Human')\n",
    "\n",
    "for i, (model, human) in enumerate(zip([model_full_arr, model_mentalize, model_nonmentalize, model_naive], [human_arr]*4)):\n",
    "    m, b = np.polyfit(model, human, 1)\n",
    "    axs[i].plot(model, m*np.array(model) + b, color='red', alpha = 0.4)\n",
    "\n",
    "\n",
    "    # Add correlation text to each subplot\n",
    "    axs[0].text(0.10, 0.90, f'r = {corr_full:.2f}', transform=axs[0].transAxes, fontsize=12, verticalalignment='top')\n",
    "    axs[1].text(0.10, 0.90, f'r = {corr_mentalize:.2f}', transform=axs[1].transAxes, fontsize=12, verticalalignment='top')\n",
    "    axs[2].text(0.10, 0.90, f'r = {corr_nonmentalize:.2f}', transform=axs[2].transAxes, fontsize=12, verticalalignment='top')\n",
    "    axs[3].text(0.10, 0.90, f'r = {corr_naive:.2f}', transform=axs[3].transAxes, fontsize=12, verticalalignment='top')\n",
    "\n",
    "    # Increase the label size and ticks size \n",
    "    # for ax in axs:\n",
    "    #     ax.xaxis.label.set_size(15)\n",
    "    #     ax.yaxis.label.set_size(15)\n",
    "    #     ax.title.set_size(28)\n",
    "    #     ax.tick_params(axis='both', which='major', labelsize=12)\n",
    "\n",
    "plt.tight_layout()\n",
    "\n",
    "plt.savefig('scatter_plot.pdf', format='pdf')\n"
   ]
  },
  {
   "cell_type": "code",
   "execution_count": 40,
   "id": "4e0c4694",
   "metadata": {},
   "outputs": [
    {
     "data": {
      "text/plain": [
       "array([0.67381686, 1.66102596])"
      ]
     },
     "execution_count": 40,
     "metadata": {},
     "output_type": "execute_result"
    }
   ],
   "source": [
    "np.polyfit(model_full_arr, human_arr, 1)"
   ]
  },
  {
   "cell_type": "code",
   "execution_count": 530,
   "id": "7cab0451",
   "metadata": {},
   "outputs": [],
   "source": [
    "import matplotlib.pyplot as plt\n",
    "import matplotlib.image as mpimg\n",
    "\n",
    "import os\n",
    "\n",
    "with open('/Users/lance/Documents/GitHub/ObserveMove/results/goal_dict.json', 'r') as file:\n",
    "    goal_dict = json.load(file)\n",
    "\n",
    "for key in step_dict.keys():\n",
    "    model_img_path = f'/Users/lance/Documents/GitHub/ObserveMove/results/plots/{key}_model.png'\n",
    "    human_img_path = f'/Users/lance/Documents/GitHub/ObserveMove/results/plots/{key}_human.png'\n",
    "    \n",
    "    if os.path.exists(model_img_path) and os.path.exists(human_img_path):\n",
    "        fig, (ax1, ax2) = plt.subplots(1, 2, figsize=(12, 6))\n",
    "\n",
    "        # Read and display the model image\n",
    "        img_model = mpimg.imread(model_img_path)\n",
    "        ax1.imshow(img_model)\n",
    "        ax1.axis('off')\n",
    "        ax1.set_title('Model', fontsize=16)\n",
    "\n",
    "        # Read and display the human image\n",
    "        img_human = mpimg.imread(human_img_path)\n",
    "        ax2.imshow(img_human)\n",
    "        ax2.axis('off')\n",
    "        ax2.set_title('Human', fontsize=16)\n",
    "\n",
    "        ax1.text(0.5, -0.05, f'Steps: {step_dict[key]}', size=16, ha=\"center\", \n",
    "                 transform=ax1.transAxes)\n",
    "        ax2.text(0.5, -0.05, f'Steps: {np.around(human_steps[key], 2)}', size=16, ha=\"center\", \n",
    "                 transform=ax2.transAxes)\n",
    "\n",
    "        plt.tight_layout()\n",
    "\n",
    "        plt.text(1.2, 1.1, f'Main agent goal: {goal_dict[key]}', size=16, ha=\"center\", \n",
    "                 transform=ax1.transAxes)\n",
    "        # plt.show()\n",
    "        plt.tight_layout()\n",
    "    \n",
    "        plt.savefig(f'/Users/lance/Documents/GitHub/ObserveMove/results/comparisons/{key}_comparison.png')\n",
    "    "
   ]
  },
  {
   "cell_type": "code",
   "execution_count": 462,
   "id": "7737be34",
   "metadata": {},
   "outputs": [
    {
     "name": "stdout",
     "output_type": "stream",
     "text": [
      "Pearson correlation coefficient: 0.45292537823474\n"
     ]
    }
   ],
   "source": [
    "import matplotlib.pyplot as plt\n",
    "import matplotlib.image as mpimg\n",
    "\n",
    "import os\n",
    "\n",
    "with open('/Users/lance/Documents/GitHub/ObserveMove/results/goal_dict.json', 'r') as file:\n",
    "    goal_dict = json.load(file)\n",
    "\n",
    "for key in set([p_id[:4] for p_id in step_dict.keys()]):\n",
    "    print(key)\n",
    "    blue_img_path = f'/Users/lance/Documents/GitHub/ObserveMove/results/plots/conditions/{key}_blue_exp.png'\n",
    "    other_img_path = f'/Users/lance/Documents/GitHub/ObserveMove/results/plots/conditions/{key}_other_exp.png'\n",
    "    \n",
    "    if os.path.exists(blue_img_path) and os.path.exists(other_img_path):\n",
    "        fig, (ax1, ax2) = plt.subplots(1, 2, figsize=(12, 7))\n",
    "\n",
    "        # Read and display the model image\n",
    "        img_blue = mpimg.imread(blue_img_path)\n",
    "        ax1.imshow(img_blue)\n",
    "        ax1.axis('off')\n",
    "        ax1.set_title('blue_exp', fontsize=16)\n",
    "\n",
    "        # Read and display the human image\n",
    "        img_other = mpimg.imread(other_img_path)\n",
    "        ax2.imshow(img_other)\n",
    "        ax2.axis('off')\n",
    "        ax2.set_title('other_exp', fontsize=16)\n",
    "\n",
    "        # ax1.text(0.5, -0.05, f'Steps: {step_dict[key]}', size=16, ha=\"center\", \n",
    "        #          transform=ax1.transAxes)\n",
    "        # ax2.text(0.5, -0.05, f'Steps: {np.around(human_steps[key], 2)}', size=16, ha=\"center\", \n",
    "        #          transform=ax2.transAxes)\n",
    "\n",
    "        plt.tight_layout()\n",
    "\n",
    "        # plt.text(1.2, 1.1, f'Main agent goal: {goal_dict[key]}', size=16, ha=\"center\", \n",
    "        #          transform=ax1.transAxes)\n",
    "    \n",
    "        plt.savefig(f'/Users/lance/Documents/GitHub/ObserveMove/results/exp_condition/{key}_comparison.png')\n",
    "    "
   ]
  },
  {
   "cell_type": "code",
   "execution_count": 559,
   "id": "70b8a24e",
   "metadata": {},
   "outputs": [
    {
     "data": {
      "text/plain": [
       "54"
      ]
     },
     "execution_count": 559,
     "metadata": {},
     "output_type": "execute_result"
    }
   ],
   "source": [
    "len(model_arr)"
   ]
  },
  {
   "cell_type": "code",
   "execution_count": 342,
   "id": "bd23d507",
   "metadata": {},
   "outputs": [
    {
     "data": {
      "image/png": "[encoded data removed]",
      "text/plain": [
       "<Figure size 600x300 with 1 Axes>"
      ]
     },
     "metadata": {},
     "output_type": "display_data"
    },
    {
     "data": {
      "image/png": "[encoded data removed]",
      "text/plain": [
       "<Figure size 640x480 with 1 Axes>"
      ]
     },
     "metadata": {},
     "output_type": "display_data"
    }
   ],
   "source": [
    "import matplotlib.pyplot as plt\n",
    "\n",
    "# Create the histogram\n",
    "plt.figure(figsize=(6, 3))\n",
    "plt.hist(observe_dict[\"s342_blue_naive\"], bins=10, color='skyblue', edgecolor='black')\n",
    "\n",
    "# Add labels and title\n",
    "plt.xlabel('Number of Observations')\n",
    "plt.ylabel('Frequency')\n",
    "plt.title('Histogram of Observations for s342_blue_naive')\n",
    "plt.ylim(0, 10)\n",
    "plt.xlim(0,15)\n",
    "# Show the plot\n",
    "plt.show()\n",
    "\n",
    "plt.hist(observe_dict[\"s342_blue_exp\"], bins=10, color='skyblue', edgecolor='black')\n",
    "\n",
    "# Add labels and title\n",
    "plt.xlabel('Number of Observations')\n",
    "plt.ylabel('Frequency')\n",
    "plt.title('Histogram of Observations for s342_blue_naive')\n",
    "plt.ylim(0, 10)\n",
    "plt.xlim(0,15)\n",
    "\n",
    "# Show the plot\n",
    "plt.show()"
   ]
  },
  {
   "cell_type": "code",
   "execution_count": 343,
   "id": "b2d1fc18",
   "metadata": {},
   "outputs": [
    {
     "data": {
      "image/png": "[encoded data removed]",
      "text/plain": [
       "<Figure size 600x300 with 1 Axes>"
      ]
     },
     "metadata": {},
     "output_type": "display_data"
    },
    {
     "data": {
      "image/png": "[encoded data removed]",
      "text/plain": [
       "<Figure size 640x480 with 1 Axes>"
      ]
     },
     "metadata": {},
     "output_type": "display_data"
    }
   ],
   "source": [
    "import matplotlib.pyplot as plt\n",
    "\n",
    "# Create the histogram\n",
    "plt.figure(figsize=(6, 3))\n",
    "plt.hist(observe_dict[\"s541_blue_naive\"], bins=10, color='skyblue', edgecolor='black')\n",
    "\n",
    "# Add labels and title\n",
    "plt.xlabel('Number of Observations')\n",
    "plt.ylabel('Frequency')\n",
    "plt.title('Histogram of Observations for s541_blue_naive')\n",
    "plt.ylim(0, 10)\n",
    "plt.xlim(0,15)\n",
    "# Show the plot\n",
    "plt.show()\n",
    "\n",
    "plt.hist(observe_dict[\"s541_blue_exp\"], bins=10, color='skyblue', edgecolor='black')\n",
    "\n",
    "# Add labels and title\n",
    "plt.xlabel('Number of Observations')\n",
    "plt.ylabel('Frequency')\n",
    "plt.title('Histogram of Observations for s541_blue_exp')\n",
    "plt.ylim(0, 10)\n",
    "plt.xlim(0,15)\n",
    "\n",
    "# Show the plot\n",
    "plt.show()"
   ]
  },
  {
   "cell_type": "code",
   "execution_count": 344,
   "id": "a44c815d",
   "metadata": {},
   "outputs": [
    {
     "data": {
      "image/png": "[encoded data removed]",
      "text/plain": [
       "<Figure size 600x300 with 1 Axes>"
      ]
     },
     "metadata": {},
     "output_type": "display_data"
    },
    {
     "data": {
      "image/png": "[encoded data removed]",
      "text/plain": [
       "<Figure size 640x480 with 1 Axes>"
      ]
     },
     "metadata": {},
     "output_type": "display_data"
    }
   ],
   "source": [
    "import matplotlib.pyplot as plt\n",
    "\n",
    "# Create the histogram\n",
    "plt.figure(figsize=(6, 3))\n",
    "plt.hist(observe_dict[\"s331_blue_naive\"], bins=10, color='skyblue', edgecolor='black')\n",
    "\n",
    "# Add labels and title\n",
    "plt.xlabel('Number of Observations')\n",
    "plt.ylabel('Frequency')\n",
    "plt.title('Histogram of Observations for s331_blue_naive')\n",
    "plt.ylim(0, 10)\n",
    "plt.xlim(0,15)\n",
    "# Show the plot\n",
    "plt.show()\n",
    "\n",
    "plt.hist(observe_dict[\"s331_blue_exp\"], bins=10, color='skyblue', edgecolor='black')\n",
    "\n",
    "# Add labels and title\n",
    "plt.xlabel('Number of Observations')\n",
    "plt.ylabel('Frequency')\n",
    "plt.title('Histogram of Observations for s331_blue_expert')\n",
    "plt.ylim(0, 10)\n",
    "plt.xlim(0,15)\n",
    "\n",
    "# Show the plot\n",
    "plt.show()"
   ]
  },
  {
   "cell_type": "code",
   "execution_count": 77,
   "id": "f2abe917",
   "metadata": {},
   "outputs": [],
   "source": [
    "blue_naive_sd = []\n",
    "other_exp_sd = []\n",
    "blue_exp_sd = []\n",
    "\n",
    "for mid, data in observe_dict.items():\n",
    "    if \"blue_exp\" in mid:\n",
    "        blue_exp_sd.append(np.std(data))\n",
    "    elif \"blue_naive\" in mid:\n",
    "        blue_naive_sd.append(np.std(data))\n",
    "    else:\n",
    "        other_exp_sd.append(np.std(data))"
   ]
  },
  {
   "cell_type": "code",
   "execution_count": 18,
   "id": "7fc07f6f",
   "metadata": {},
   "outputs": [
    {
     "data": {
      "text/plain": [
       "Ttest_indResult(statistic=-0.3733380312505349, pvalue=0.7092392548786262)"
      ]
     },
     "execution_count": 18,
     "metadata": {},
     "output_type": "execute_result"
    }
   ],
   "source": [
    "import scipy.stats as stats\n",
    "stats.ttest_ind(blue_naive_list, blue_exp_list)"
   ]
  },
  {
   "cell_type": "code",
   "execution_count": 19,
   "id": "4a1362e7",
   "metadata": {},
   "outputs": [
    {
     "data": {
      "text/plain": [
       "Ttest_indResult(statistic=5.345933825583366, pvalue=2.1495977280319667e-07)"
      ]
     },
     "execution_count": 19,
     "metadata": {},
     "output_type": "execute_result"
    }
   ],
   "source": [
    "stats.ttest_ind(blue_exp_list, other_exp_list) "
   ]
  },
  {
   "cell_type": "code",
   "execution_count": 39,
   "id": "f65a0fd6",
   "metadata": {},
   "outputs": [],
   "source": [
    "ind_data = np.load(\"data.npy\")"
   ]
  },
  {
   "cell_type": "code",
   "execution_count": 42,
   "id": "7606ef56",
   "metadata": {},
   "outputs": [
    {
     "data": {
      "text/plain": [
       "7.5405405135135135"
      ]
     },
     "execution_count": 42,
     "metadata": {},
     "output_type": "execute_result"
    }
   ],
   "source": [
    "ind_data[:,1].mean()"
   ]
  },
  {
   "cell_type": "code",
   "execution_count": 44,
   "id": "f26f3166",
   "metadata": {},
   "outputs": [
    {
     "data": {
      "text/plain": [
       "2.9346847027027025"
      ]
     },
     "execution_count": 44,
     "metadata": {},
     "output_type": "execute_result"
    }
   ],
   "source": [
    "ind_data[:,3].mean()"
   ]
  },
  {
   "cell_type": "code",
   "execution_count": 176,
   "id": "6cf151fc",
   "metadata": {},
   "outputs": [
    {
     "ename": "NameError",
     "evalue": "name 'ind_data' is not defined",
     "output_type": "error",
     "traceback": [
      "\u001b[0;31m---------------------------------------------------------------------------\u001b[0m",
      "\u001b[0;31mNameError\u001b[0m                                 Traceback (most recent call last)",
      "Cell \u001b[0;32mIn[176], line 1\u001b[0m\n\u001b[0;32m----> 1\u001b[0m val \u001b[38;5;241m=\u001b[39m [ind_data[:,\u001b[38;5;241m2\u001b[39m]\u001b[38;5;241m.\u001b[39mmean(), ind_data[:,\u001b[38;5;241m1\u001b[39m]\u001b[38;5;241m.\u001b[39mmean(), ind_data[:,\u001b[38;5;241m3\u001b[39m]\u001b[38;5;241m.\u001b[39mmean()]\n\u001b[1;32m      2\u001b[0m sd \u001b[38;5;241m=\u001b[39m [ind_data[:,\u001b[38;5;241m2\u001b[39m]\u001b[38;5;241m.\u001b[39mstd()\u001b[38;5;241m/\u001b[39mnp\u001b[38;5;241m.\u001b[39msqrt(\u001b[38;5;28mlen\u001b[39m(ind_data)), ind_data[:,\u001b[38;5;241m1\u001b[39m]\u001b[38;5;241m.\u001b[39mstd()\u001b[38;5;241m/\u001b[39mnp\u001b[38;5;241m.\u001b[39msqrt(\u001b[38;5;28mlen\u001b[39m(ind_data)), ind_data[:,\u001b[38;5;241m3\u001b[39m]\u001b[38;5;241m.\u001b[39mstd()\u001b[38;5;241m/\u001b[39mnp\u001b[38;5;241m.\u001b[39msqrt(\u001b[38;5;28mlen\u001b[39m(ind_data))]\n\u001b[1;32m      4\u001b[0m X_labels \u001b[38;5;241m=\u001b[39m [\u001b[38;5;124m\"\u001b[39m\u001b[38;5;124mblue_naive\u001b[39m\u001b[38;5;124m\"\u001b[39m, \u001b[38;5;124m\"\u001b[39m\u001b[38;5;124mblue_exp\u001b[39m\u001b[38;5;124m\"\u001b[39m, \u001b[38;5;124m\"\u001b[39m\u001b[38;5;124mother_exp\u001b[39m\u001b[38;5;124m\"\u001b[39m]\n",
      "\u001b[0;31mNameError\u001b[0m: name 'ind_data' is not defined"
     ]
    }
   ],
   "source": [
    "val = [ind_data[:,2].mean(), ind_data[:,1].mean(), ind_data[:,3].mean()]\n",
    "sd = [ind_data[:,2].std()/np.sqrt(len(ind_data)), ind_data[:,1].std()/np.sqrt(len(ind_data)), ind_data[:,3].std()/np.sqrt(len(ind_data))]\n",
    "\n",
    "X_labels = [\"blue_naive\", \"blue_exp\", \"other_exp\"]\n",
    "\n",
    "plt.figure(figsize=(10, 6))\n",
    "plt.bar(X_labels, val, yerr=sd, capsize=5, color=['skyblue', 'crimson', 'forestgreen'])\n",
    "plt.xlabel('Experiment Type')\n",
    "plt.ylabel('Mean Value')\n",
    "plt.title('Mean Observe Counts on an individual level')\n",
    "plt.show()"
   ]
  }
 ],
 "metadata": {
  "kernelspec": {
   "display_name": "base",
   "language": "python",
   "name": "python3"
  },
  "language_info": {
   "codemirror_mode": {
    "name": "ipython",
    "version": 3
   },
   "file_extension": ".py",
   "mimetype": "text/x-python",
   "name": "python",
   "nbconvert_exporter": "python",
   "pygments_lexer": "ipython3",
   "version": "3.11.3"
  }
 },
 "nbformat": 4,
 "nbformat_minor": 5
}
