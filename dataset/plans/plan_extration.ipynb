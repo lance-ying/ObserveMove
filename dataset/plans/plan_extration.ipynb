{
 "cells": [
  {
   "cell_type": "code",
   "execution_count": 1,
   "metadata": {},
   "outputs": [
    {
     "name": "stdout",
     "output_type": "stream",
     "text": [
      "s6_1_1_1.pddl\n",
      "s2_2_1_1.pddl\n",
      ".DS_Store\n",
      "s3_3_2_1.pddl\n",
      "s3_1_1_1.pddl\n",
      "s3_4_2_1.pddl\n",
      "s4_1_1_1.pddl\n",
      "s5_2_1_1.pddl\n",
      "s3_2_1_1.pddl\n",
      "s3_3_1_1.pddl\n",
      "s2_1_1_1.pddl\n",
      "s3_3_3_1.pddl\n",
      "s6_2_1_1.pddl\n",
      "s3_4_3_1.pddl\n",
      "s3_4_1_1.pddl\n",
      "s5_1_1_1.pddl\n",
      "s4_2_1_1.pddl\n"
     ]
    }
   ],
   "source": [
    "import os\n",
    "\n",
    "folder_path = \"/Users/lance/Documents/GitHub/InversePlanningProjects.jl/watch_explore/dataset/plans/pddl\"\n",
    "filenames = os.listdir(folder_path)\n",
    "\n",
    "for filename in filenames:\n",
    "    print(filename)"
   ]
  },
  {
   "cell_type": "code",
   "execution_count": 8,
   "metadata": {},
   "outputs": [],
   "source": [
    "folder_path = \"/Users/lance/Documents/GitHub/InversePlanningProjects.jl/watch_explore/dataset/plans/\"\n",
    "for file in filenames:\n",
    "    if file.endswith(\".pddl\"):\n",
    "        plan_str = \"\"\n",
    "        with open(folder_path + \"pddl/\" + file, 'r') as f:\n",
    "            lines = f.readlines()\n",
    "            for line in lines:\n",
    "                if \"up\" in line:\n",
    "                    plan_str += 'up\\n'\n",
    "                elif \"down\" in line:\n",
    "                    plan_str += 'down\\n'\n",
    "                elif \"left\" in line:\n",
    "                    plan_str += 'left\\n'\n",
    "                elif \"right\" in line:\n",
    "                    plan_str += 'right\\n'\n",
    "        # plan_str += \"]\"\n",
    "\n",
    "        with open(folder_path + \"txt/\" + file[:-4] + \".txt\", 'w') as f:\n",
    "            f.write(plan_str)"
   ]
  },
  {
   "cell_type": "code",
   "execution_count": null,
   "metadata": {},
   "outputs": [],
   "source": []
  }
 ],
 "metadata": {
  "kernelspec": {
   "display_name": "base",
   "language": "python",
   "name": "python3"
  },
  "language_info": {
   "codemirror_mode": {
    "name": "ipython",
    "version": 3
   },
   "file_extension": ".py",
   "mimetype": "text/x-python",
   "name": "python",
   "nbconvert_exporter": "python",
   "pygments_lexer": "ipython3",
   "version": "3.11.3"
  }
 },
 "nbformat": 4,
 "nbformat_minor": 2
}
