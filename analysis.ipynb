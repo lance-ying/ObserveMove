{
 "cells": [
  {
   "cell_type": "code",
   "execution_count": 1,
   "metadata": {},
   "outputs": [],
   "source": [
    "import os\n",
    "\n",
    "folder_path = \"/Users/lance/Documents/GitHub/ToMProjects.jl/watch_explore/dataset/problems\"\n",
    "\n",
    "# Get a list of all files in the folder\n",
    "file_list = os.listdir(folder_path)\n",
    "\n",
    "# Iterate over the files and remove those that do not have \"updated\" in the filename\n",
    "for file_name in file_list:\n",
    "    if \"updated\" not in file_name:\n",
    "        file_path = os.path.join(folder_path, file_name)\n",
    "        os.remove(file_path)"
   ]
  },
  {
   "cell_type": "code",
   "execution_count": 3,
   "metadata": {},
   "outputs": [],
   "source": [
    "file_list = os.listdir(folder_path)"
   ]
  },
  {
   "cell_type": "code",
   "execution_count": 6,
   "metadata": {},
   "outputs": [],
   "source": [
    "for file_name in file_list:\n",
    "    if file_name.endswith('.txt'):\n",
    "        file_path = os.path.join(folder_path, file_name)\n",
    "        with open(file_path, 'r') as file:\n",
    "            content = file.read()\n",
    "        \n",
    "        # Perform the replacements\n",
    "        # content = content.replace('T', 'y')\n",
    "        # content = content.replace('E', 'e')\n",
    "        # content = content.replace('A', 'O')\n",
    "        # content = content.replace('D', 'r')\n",
    "        # content = content.replace('O', 'b')\n",
    "        content = content.replace('K', 'M')\n",
    "\n",
    "        # content = content.replace('M', 'g')\n",
    "        # content = content.replace('N', 'g')\n",
    "        # content = content.replace('P', 'g')\n",
    "        \n",
    "        with open(file_path, 'w') as file:\n",
    "            file.write(content)"
   ]
  },
  {
   "cell_type": "code",
   "execution_count": null,
   "metadata": {},
   "outputs": [],
   "source": []
  }
 ],
 "metadata": {
  "kernelspec": {
   "display_name": "base",
   "language": "python",
   "name": "python3"
  },
  "language_info": {
   "codemirror_mode": {
    "name": "ipython",
    "version": 3
   },
   "file_extension": ".py",
   "mimetype": "text/x-python",
   "name": "python",
   "nbconvert_exporter": "python",
   "pygments_lexer": "ipython3",
   "version": "3.11.3"
  }
 },
 "nbformat": 4,
 "nbformat_minor": 2
}
